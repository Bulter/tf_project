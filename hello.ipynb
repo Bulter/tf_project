{
 "cells": [
  {
   "cell_type": "code",
   "execution_count": 1,
   "metadata": {},
   "outputs": [],
   "source": [
    "import tensorflow as tf\n",
    "\n",
    "from tensorflow import keras\n",
    "from tensorflow.keras import layers"
   ]
  },
  {
   "cell_type": "code",
   "execution_count": 5,
   "metadata": {},
   "outputs": [
    {
     "data": {
      "text/plain": [
       "<tf.Tensor: shape=(1, 10, 5), dtype=float32, numpy=\n",
       "array([[[-0.01862597, -0.00334956,  0.04830854,  0.03242388,\n",
       "         -0.01192739],\n",
       "        [-0.0233111 ,  0.01983568,  0.0189561 , -0.01962071,\n",
       "          0.02615999],\n",
       "        [-0.0233111 ,  0.01983568,  0.0189561 , -0.01962071,\n",
       "          0.02615999],\n",
       "        [ 0.03444393, -0.01531786, -0.0033838 ,  0.03225869,\n",
       "         -0.018484  ],\n",
       "        [-0.04602621, -0.04833745, -0.01547657, -0.00369142,\n",
       "         -0.0313596 ],\n",
       "        [-0.0233111 ,  0.01983568,  0.0189561 , -0.01962071,\n",
       "          0.02615999],\n",
       "        [ 0.00286833, -0.02307302,  0.04050693,  0.04634685,\n",
       "         -0.0186964 ],\n",
       "        [-0.01862597, -0.00334956,  0.04830854,  0.03242388,\n",
       "         -0.01192739],\n",
       "        [ 0.04170139, -0.0338135 ,  0.04312653, -0.01489342,\n",
       "          0.02225891],\n",
       "        [ 0.04382542,  0.02465444, -0.00269968, -0.04287535,\n",
       "         -0.02969116]]], dtype=float32)>"
      ]
     },
     "execution_count": 5,
     "metadata": {},
     "output_type": "execute_result"
    }
   ],
   "source": [
    "words = [[2, 3, 3, 4, 5, 3, 6, 2, 1, 0]]  # 第二个和第五个\n",
    "\n",
    "tf.random.set_seed(520)\n",
    "embeddings = layers.Embedding(9, 5)\n",
    "\n",
    "embeddings(tf.Variable(words))"
   ]
  },
  {
   "cell_type": "code",
   "execution_count": 7,
   "metadata": {},
   "outputs": [
    {
     "data": {
      "text/plain": [
       "<tf.Tensor: shape=(1, 8, 4), dtype=float32, numpy=\n",
       "array([[[ 2.1573531e-03, -2.2026023e-02,  6.2333042e-05, -3.7967772e-03],\n",
       "        [ 5.2825692e-03,  3.0556269e-02,  1.0702302e-02, -3.3799879e-02],\n",
       "        [-4.1705664e-02,  1.3093116e-02, -2.9750289e-02,  3.5943914e-02],\n",
       "        [ 4.5824167e-04, -8.0889901e-03, -1.4216326e-03,  2.5043406e-02],\n",
       "        [-3.9527997e-02, -4.2051878e-02,  5.8549918e-02, -2.5723914e-02],\n",
       "        [-2.6600368e-02,  5.7612609e-02, -2.5477795e-02,  1.6935151e-02],\n",
       "        [-4.4883611e-03, -7.7862376e-03,  2.1512130e-02,  1.6298648e-02],\n",
       "        [ 3.1133471e-02,  8.2555590e-03,  2.3945654e-02, -4.4470350e-03]]],\n",
       "      dtype=float32)>"
      ]
     },
     "execution_count": 7,
     "metadata": {},
     "output_type": "execute_result"
    }
   ],
   "source": [
    "conv = layers.Conv1D(4, 3)\n",
    "\n",
    "conv(embeddings(tf.Variable(words)))\n"
   ]
  },
  {
   "cell_type": "code",
   "execution_count": 8,
   "metadata": {},
   "outputs": [
    {
     "data": {
      "text/plain": [
       "<tf.Tensor: shape=(1, 3, 4), dtype=float32, numpy=\n",
       "array([[[0.00528257, 0.03055627, 0.0107023 , 0.03594391],\n",
       "        [0.00045824, 0.05761261, 0.05854992, 0.02504341],\n",
       "        [0.03113347, 0.00825556, 0.02394565, 0.01629865]]], dtype=float32)>"
      ]
     },
     "execution_count": 8,
     "metadata": {},
     "output_type": "execute_result"
    }
   ],
   "source": [
    "pooling = layers.MaxPool1D(3, padding='same')\n",
    "\n",
    "pooling(conv(embeddings(tf.Variable(words))))"
   ]
  },
  {
   "cell_type": "code",
   "execution_count": 17,
   "metadata": {},
   "outputs": [
    {
     "data": {
      "text/plain": [
       "<tf.Tensor: shape=(1, 12), dtype=float32, numpy=\n",
       "array([[0.00528257, 0.03055627, 0.0107023 , 0.03594391, 0.00045824,\n",
       "        0.05761261, 0.05854992, 0.02504341, 0.03113347, 0.00825556,\n",
       "        0.02394565, 0.01629865]], dtype=float32)>"
      ]
     },
     "execution_count": 17,
     "metadata": {},
     "output_type": "execute_result"
    }
   ],
   "source": [
    "flatten = layers.Flatten()\n",
    "\n",
    "flatten(pooling(conv(embeddings(tf.Variable(words)))))"
   ]
  },
  {
   "cell_type": "code",
   "execution_count": 18,
   "metadata": {},
   "outputs": [
    {
     "data": {
      "text/plain": [
       "<tf.Tensor: shape=(1, 12), dtype=float32, numpy=\n",
       "array([[0.00528257, 0.03055627, 0.0107023 , 0.03594391, 0.00045824,\n",
       "        0.05761261, 0.05854992, 0.02504341, 0.03113347, 0.00825556,\n",
       "        0.02394565, 0.01629865]], dtype=float32)>"
      ]
     },
     "execution_count": 18,
     "metadata": {},
     "output_type": "execute_result"
    }
   ],
   "source": [
    "dropout = layers.Dropout(0.2)\n",
    "\n",
    "dropout(flatten(pooling(conv(embeddings(tf.Variable(words))))))"
   ]
  },
  {
   "cell_type": "code",
   "execution_count": 19,
   "metadata": {},
   "outputs": [
    {
     "data": {
      "text/plain": [
       "<tf.Tensor: shape=(1, 2), dtype=float32, numpy=array([[0.5052252 , 0.49477482]], dtype=float32)>"
      ]
     },
     "execution_count": 19,
     "metadata": {},
     "output_type": "execute_result"
    }
   ],
   "source": [
    "dense = layers.Dense(2, activation='softmax')\n",
    "\n",
    "dense(dropout(flatten(pooling(conv(embeddings(tf.Variable(words)))))))"
   ]
  },
  {
   "cell_type": "code",
   "execution_count": null,
   "metadata": {},
   "outputs": [],
   "source": []
  },
  {
   "cell_type": "markdown",
   "metadata": {},
   "source": [
    "## Loss"
   ]
  },
  {
   "cell_type": "code",
   "execution_count": 1,
   "metadata": {},
   "outputs": [
    {
     "data": {
      "text/plain": [
       "[0, 1, 2, 3, 4, 5, 6, 7, 8, 9]"
      ]
     },
     "execution_count": 1,
     "metadata": {},
     "output_type": "execute_result"
    }
   ],
   "source": [
    "temp = list(range(10))\n",
    "temp.split()"
   ]
  },
  {
   "cell_type": "code",
   "execution_count": 12,
   "metadata": {},
   "outputs": [],
   "source": [
    "class Data:\n",
    "    def __init__(self, data, batch_size):\n",
    "        self.data = data\n",
    "        self.batch_size = batch_size\n",
    "\n",
    "        self.start = 0\n",
    "        self.end = len(data)\n",
    "\n",
    "    def __iter__(self):\n",
    "        return self\n",
    "    \n",
    "    def __next__(self):\n",
    "        start = self.start\n",
    "        if start < self.end:\n",
    "            self.start += self.batch_size\n",
    "            return self.data[start:self.start]\n",
    "        else:\n",
    "            raise StopIteration\n",
    "        \n",
    "\n"
   ]
  },
  {
   "cell_type": "code",
   "execution_count": 38,
   "metadata": {},
   "outputs": [],
   "source": [
    "class TextCNN(keras.Model):\n",
    "    def __init__(self):\n",
    "        super().__init__()\n",
    "\n",
    "        self.max_len = 20  # 每个句子最大单词个数\n",
    "        self.word_dim = 128  # 词向量维度\n",
    "        self.word_num = 1670  # 最大单词数\n",
    "        self.class_num = 10  # 类别总数\n",
    "        self.dropout = 0.2\n",
    "\n",
    "        tf.random.set_seed(520)        \n",
    "        self.embeddings_layer = layers.Embedding(self.word_num, self.word_dim)\n",
    "\n",
    "        self.conv_layer = layers.Conv1D(128, 3)\n",
    "        self.pooling_layer = layers.MaxPool1D(8, padding='same')\n",
    "\n",
    "        self.flatten = layers.Flatten()\n",
    "\n",
    "        self.dropout_layer = layers.Dropout(self.dropout)\n",
    "        self.dense_layer = layers.Dense(self.class_num, activation='softmax')\n",
    "\n",
    "    def call(self, batch_word_index):\n",
    "        \"\"\"\n",
    "            args:\n",
    "                batch_word_index: list, batch * sentence_length\n",
    "            return:\n",
    "                x: \n",
    "        \"\"\"\n",
    "        vector_x = self.embeddings(tf.Variable(batch_word_index))\n",
    "        x_1 = self.pooling_layer(self.conv_layer(vector_x))\n",
    "        x = self.dense_layer(self.dropout(self.flatten(x_1)))\n",
    "        return x"
   ]
  },
  {
   "cell_type": "code",
   "execution_count": null,
   "metadata": {},
   "outputs": [
    {
     "ename": "Error",
     "evalue": "Session cannot generate requests",
     "output_type": "error",
     "traceback": [
      "Error: Session cannot generate requests",
      "at w.executeCodeCell (/home/bulter/.vscode-server/extensions/ms-toolsai.jupyter-2021.9.1101343141/out/client/extension.js:52:301180)",
      "at w.execute (/home/bulter/.vscode-server/extensions/ms-toolsai.jupyter-2021.9.1101343141/out/client/extension.js:52:300551)",
      "at w.start (/home/bulter/.vscode-server/extensions/ms-toolsai.jupyter-2021.9.1101343141/out/client/extension.js:52:296215)",
      "at async t.CellExecutionQueue.executeQueuedCells (/home/bulter/.vscode-server/extensions/ms-toolsai.jupyter-2021.9.1101343141/out/client/extension.js:52:310950)",
      "at async t.CellExecutionQueue.start (/home/bulter/.vscode-server/extensions/ms-toolsai.jupyter-2021.9.1101343141/out/client/extension.js:52:310490)"
     ]
    }
   ],
   "source": [
    "tf.reduce_mean([2, 3, 4])"
   ]
  },
  {
   "cell_type": "code",
   "execution_count": null,
   "metadata": {},
   "outputs": [],
   "source": []
  },
  {
   "cell_type": "code",
   "execution_count": 45,
   "metadata": {},
   "outputs": [
    {
     "data": {
      "text/plain": [
       "0.5877866"
      ]
     },
     "execution_count": 45,
     "metadata": {},
     "output_type": "execute_result"
    }
   ],
   "source": [
    "tf.losses.categorical_crossentropy([0, 1, 0, 0], [0.2 ,0.5, 0.1, 0.1])"
   ]
  },
  {
   "cell_type": "code",
   "execution_count": 40,
   "metadata": {},
   "outputs": [],
   "source": [
    "import time\n",
    "\n",
    "\n",
    "def lazy_property(func):\n",
    "    attr_name = f'_lazy_{func.__name__}'\n",
    "\n",
    "    @property\n",
    "    def _lazy_proprety(self):\n",
    "        if not hasattr(self, attr_name):\n",
    "            setattr(self, attr_name, func(self))\n",
    "        return getattr(self, attr_name)\n",
    "    \n",
    "    return _lazy_proprety\n",
    "\n",
    "\n",
    "class Test:\n",
    "    @property\n",
    "    # @lazy_property\n",
    "    def time(self):\n",
    "        return int(time.time())\n",
    "\n",
    "t = Test()\n",
    "        "
   ]
  },
  {
   "cell_type": "code",
   "execution_count": 43,
   "metadata": {},
   "outputs": [
    {
     "data": {
      "text/plain": [
       "1635392765"
      ]
     },
     "execution_count": 43,
     "metadata": {},
     "output_type": "execute_result"
    }
   ],
   "source": []
  },
  {
   "cell_type": "code",
   "execution_count": 2,
   "metadata": {},
   "outputs": [],
   "source": [
    "import tensorflow as tf\n",
    "import tensorflow.keras as keras\n",
    "\n",
    "from bieshu_ai.text_cnn import TextCNN\n",
    "from bieshu_ai.data_processing import DataLoader\n",
    "\n",
    "physical_devices = tf.config.list_physical_devices('CPU')\n",
    "tf.config.set_visible_devices(physical_devices)"
   ]
  },
  {
   "cell_type": "code",
   "execution_count": 3,
   "metadata": {},
   "outputs": [
    {
     "name": "stderr",
     "output_type": "stream",
     "text": [
      "2021-10-28 17:34:59.214796: I tensorflow/core/platform/cpu_feature_guard.cc:142] This TensorFlow binary is optimized with oneAPI Deep Neural Network Library (oneDNN) to use the following CPU instructions in performance-critical operations:  AVX2 AVX512F FMA\n",
      "To enable them in other operations, rebuild TensorFlow with the appropriate compiler flags.\n",
      "Building prefix dict from the default dictionary ...\n",
      "Loading model from cache /tmp/jieba.cache\n",
      "Loading model cost 0.789 seconds.\n",
      "Prefix dict has been built successfully.\n"
     ]
    },
    {
     "data": {
      "text/plain": [
       "<bieshu_ai.text_cnn.TextCNN at 0x7f99d5c09d30>"
      ]
     },
     "execution_count": 3,
     "metadata": {},
     "output_type": "execute_result"
    }
   ],
   "source": [
    "dataloader = DataLoader()\n",
    "\n",
    "model = TextCNN()\n",
    "\n",
    "# model.compile(\n",
    "#         optimizer=keras.optimizers.Adam(),\n",
    "#         loss=keras.losses.CategoricalCrossentropy()\n",
    "#     )\n",
    "\n",
    "# train_x, train_y = dataloader.get_data(mode='train')\n",
    "# train_x_dataset = tf.data.Dataset.from_tensor_slices((train_x, train_y)).batch(500)\n",
    "# model.fit(train_x_dataset, epochs=0)\n",
    "\n",
    "model([dataloader.word_to_index('我要看案例')[0]])\n",
    "\n",
    "model.load_weights('./models/model_weights.h5')\n",
    "\n",
    "model"
   ]
  },
  {
   "cell_type": "code",
   "execution_count": 8,
   "metadata": {},
   "outputs": [
    {
     "data": {
      "text/plain": [
       "array([[1.4903464e-09, 1.6335100e-09, 1.0596084e-07, 2.4086501e-07,\n",
       "        1.9564792e-14, 3.9162978e-14, 8.4697171e-15, 4.7496951e-11,\n",
       "        9.9999964e-01, 8.6111768e-14]], dtype=float32)"
      ]
     },
     "execution_count": 8,
     "metadata": {},
     "output_type": "execute_result"
    }
   ],
   "source": [
    "model([dataloader.word_to_index('我怕你骚扰我')[0]]).numpy()"
   ]
  },
  {
   "cell_type": "code",
   "execution_count": 23,
   "metadata": {},
   "outputs": [
    {
     "data": {
      "text/plain": [
       "tuple"
      ]
     },
     "execution_count": 23,
     "metadata": {},
     "output_type": "execute_result"
    }
   ],
   "source": []
  },
  {
   "cell_type": "code",
   "execution_count": 2,
   "metadata": {},
   "outputs": [],
   "source": [
    "import tensorflow as tf"
   ]
  },
  {
   "cell_type": "code",
   "execution_count": 7,
   "metadata": {},
   "outputs": [
    {
     "data": {
      "text/plain": [
       "TensorSpec(shape=(10, 20), dtype=tf.float32, name=None)"
      ]
     },
     "execution_count": 7,
     "metadata": {},
     "output_type": "execute_result"
    }
   ],
   "source": [
    "shape = tf.TensorSpec(shape = (10, 20))\n",
    "shape\n"
   ]
  }
 ],
 "metadata": {
  "interpreter": {
   "hash": "4a852d724e8d46108c7a454bc5490e9311fff618a2910643f59373eeed61b28b"
  },
  "kernelspec": {
   "display_name": "Python 3.7.0 64-bit ('rasa_env': conda)",
   "name": "python3"
  },
  "language_info": {
   "codemirror_mode": {
    "name": "ipython",
    "version": 3
   },
   "file_extension": ".py",
   "mimetype": "text/x-python",
   "name": "python",
   "nbconvert_exporter": "python",
   "pygments_lexer": "ipython3",
   "version": "3.7.0"
  },
  "orig_nbformat": 4
 },
 "nbformat": 4,
 "nbformat_minor": 2
}
